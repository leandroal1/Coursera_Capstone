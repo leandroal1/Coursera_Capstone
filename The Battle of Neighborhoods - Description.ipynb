{
    "nbformat_minor": 1, 
    "cells": [
        {
            "source": "# Student exchange in Toronto", 
            "cell_type": "markdown", 
            "metadata": {
                "collapsed": true
            }
        }, 
        {
            "source": "\n![texte](https://gossee.com/wp-content/uploads/2017/07/toronto-1920x900.jpg)", 
            "cell_type": "markdown", 
            "metadata": {}
        }, 
        {
            "source": "## Project Description", 
            "cell_type": "markdown", 
            "metadata": {}
        }, 
        {
            "source": "Every year hundreds of students from around the world conduct school exchanges in the city of Toronto.\nThey are people from the most different kinds of cities, and most of them don't have a clue about what is to live in Toronto.\nTypically, college students desire to live in places near bus stops, subway stations, convenience stores, markets, and preferably close to the university. \nWith this in mind, I intend to use Foursquare API data to indicate the most suitable neighborhoods to live in during the exchange.\nAlso, I want to rank the neighborhoods with the highest crime rates, that maybe newbies in the city should take extra care.\n\n\nThis project helps the end user to not only recommend but also saves a lot of time in manual search. This will save the time and money of the user. It can be used by the user at the time of rental apartment or buy house in a locality based on the distribution of various facilities available around the neighborhood. As an example, this project would compare neighborhoods and analyses the top 10 most suitable, based at the distribution of Bus Stations, Bus Stops, Convenience Stores, Train Stations, Markets, Parks, Pharmacys, Supermarkets and Universitys. Also, this project uses K-means clustering unsupervised machine learning algorithm to cluster the neighborhoods based on the venues distribution such as restaurants, park, coffee shop, gym, clubs etc. This would give a better understanding of the similarities and dissimilarities between the neighborhoods to retrieve more insights and to conclude with ease which neighborhood will be more suitable.", 
            "cell_type": "markdown", 
            "metadata": {}
        }, 
        {
            "source": "## Data Sets and APIs:\n", 
            "cell_type": "markdown", 
            "metadata": {}
        }, 
        {
            "source": "**\u2022 Foursquare API:**  \nThis API has a database of more than 105 million places. This project would use Four-square API as its prime data gathering source. \nMany organizations are using to geo-tag their photos with detailed info about a destination, while also serving up contextually relevant \nlocations for those who are searching for a place to eat, drink or explore. This API provides the ability to perform location search, location \nsharing and details about a business. Foursquare users can also use photos, tips and reviews in many productive ways to add value to the results.", 
            "cell_type": "markdown", 
            "metadata": {}
        }, 
        {
            "source": "**\u2022 Crime data:**   \nThe crime data will be provided by Toronto Police Service Safety Data Portal, within the Major Crime Indicators dataset.", 
            "cell_type": "markdown", 
            "metadata": {}
        }, 
        {
            "source": "**\u2022 Folium:**  \nPython visualization library would be used to visualize the neighborhoods cluster distribution of Chicago city over an interactive leaflet map.", 
            "cell_type": "markdown", 
            "metadata": {}
        }, 
        {
            "source": "**\u2022 K-means Clustering**:   \nUnsupervised machine learning algorithm K-mean clustering would be applied to form the clusters of different categories of places residing in and around the neighborhoods.", 
            "cell_type": "markdown", 
            "metadata": {}
        }, 
        {
            "source": "## Python packages and Dependencies:", 
            "cell_type": "markdown", 
            "metadata": {}
        }, 
        {
            "source": "\u2022 Pandas \u2013 Library for Data Analysis   \n\u2022 NumPy \u2013 Library to handle data in a vectorized manner   \n\u2022 BeautifulSoup \u2013 to retrieve data from an HTML table   \n\u2022 JSON \u2013 Library to handle JSON files    \n\u2022 Geopy \u2013 To retrieve Location Data    \n\u2022 Requests \u2013 Library to handle http requests   \n\u2022 Matplotlib \u2013 Python Plotting Module    \n\u2022 Sklearn \u2013 Python machine learning Library    \n\u2022 Folium \u2013 Map rendering Library   ", 
            "cell_type": "markdown", 
            "metadata": {}
        }, 
        {
            "execution_count": null, 
            "cell_type": "code", 
            "metadata": {}, 
            "outputs": [], 
            "source": ""
        }
    ], 
    "metadata": {
        "kernelspec": {
            "display_name": "Python 3.5", 
            "name": "python3", 
            "language": "python"
        }, 
        "language_info": {
            "mimetype": "text/x-python", 
            "nbconvert_exporter": "python", 
            "version": "3.5.5", 
            "name": "python", 
            "file_extension": ".py", 
            "pygments_lexer": "ipython3", 
            "codemirror_mode": {
                "version": 3, 
                "name": "ipython"
            }
        }
    }, 
    "nbformat": 4
}